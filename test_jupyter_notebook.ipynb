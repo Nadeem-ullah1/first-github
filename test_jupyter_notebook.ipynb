{
 "cells": [
  {
   "cell_type": "markdown",
   "id": "766e10f6",
   "metadata": {},
   "source": [
    "# python ka chilla with baba amaar\n",
    "## how to use jupyter notebook\n",
    "### basics of python\n",
    "### **1- my first program**"
   ]
  },
  {
   "cell_type": "code",
   "execution_count": 1,
   "id": "11763d64",
   "metadata": {},
   "outputs": [
    {
     "name": "stdout",
     "output_type": "stream",
     "text": [
      "5\n",
      "hello world\n",
      "we are learnung python with ammar\n"
     ]
    }
   ],
   "source": [
    "print(2+3)\n",
    "print(\"hello world\")\n",
    "print(\"we are learnung python with ammar\")"
   ]
  },
  {
   "cell_type": "markdown",
   "id": "d157e766",
   "metadata": {},
   "source": [
    "### **02-operator**"
   ]
  },
  {
   "cell_type": "code",
   "execution_count": 2,
   "id": "59191e0f",
   "metadata": {},
   "outputs": [
    {
     "name": "stdout",
     "output_type": "stream",
     "text": [
      "-4\n",
      "4.5\n"
     ]
    }
   ],
   "source": [
    "print(2-6)\n",
    "print(9/2)\n"
   ]
  },
  {
   "cell_type": "markdown",
   "id": "a709dd90",
   "metadata": {},
   "source": [
    "*PEMDAS\n",
    "Parenththesis exponents multiply divide addition substraction\n",
    "left to right for multply and divide, addition and subtraction*"
   ]
  },
  {
   "cell_type": "markdown",
   "id": "5b5da150",
   "metadata": {},
   "source": [
    "### **03-strings**"
   ]
  },
  {
   "cell_type": "code",
   "execution_count": 3,
   "id": "5485b4b7",
   "metadata": {},
   "outputs": [
    {
     "name": "stdout",
     "output_type": "stream",
     "text": [
      "hello world\n",
      "we are learnung python with ammar\n",
      "test for single qoute\n",
      "madni khan \n",
      "goro \n",
      "hello world\n",
      "we are learnung python with ammar\n",
      "what's up\n"
     ]
    }
   ],
   "source": [
    "print(\"hello world\")\n",
    "print(\"we are learnung python with ammar\")\n",
    "print('test for single qoute')\n",
    "print(\"madni khan \")\n",
    "print('''goro ''')\n",
    "print(\"hello world\")\n",
    "print(\"we are learnung python with ammar\")\n",
    "print   (   \"what's up\")"
   ]
  },
  {
   "cell_type": "markdown",
   "id": "76628140",
   "metadata": {},
   "source": [
    "### **04-c0mments**"
   ]
  },
  {
   "cell_type": "code",
   "execution_count": 4,
   "id": "0aa373a4",
   "metadata": {},
   "outputs": [
    {
     "name": "stdout",
     "output_type": "stream",
     "text": [
      "how r u?\n",
      "we r learning python\n",
      "8\n"
     ]
    }
   ],
   "source": [
    "#  press (contrl+/) to generate comment\n",
    "print(\"how r u?\")\n",
    "# print the string\n",
    "print(\"we r learning python\")\n",
    "# print the operator function of number\n",
    "print(2+6)"
   ]
  },
  {
   "cell_type": "markdown",
   "id": "8db1c5d3",
   "metadata": {},
   "source": [
    "### **05-variables**"
   ]
  },
  {
   "cell_type": "code",
   "execution_count": 5,
   "id": "0c92500e",
   "metadata": {
    "scrolled": true
   },
   "outputs": [
    {
     "name": "stdout",
     "output_type": "stream",
     "text": [
      "5\n",
      "we r learning python\n",
      "15\n",
      "25\n",
      "<class 'int'>\n",
      "<class 'str'>\n",
      "mangos\n",
      "mangos,banana\n",
      "8\n",
      "15\n",
      "<class 'str'>\n"
     ]
    }
   ],
   "source": [
    "# variables. objects containing specific values.\n",
    "x=5\n",
    "print(x)\n",
    "\n",
    "y=\"we r learning python\"\n",
    "print(y)\n",
    "\n",
    "x=15\n",
    "print(x)\n",
    "\n",
    "x=x+10\n",
    "print(x)\n",
    "\n",
    "# types/class of variables\n",
    "type(x)\n",
    "print(type(x))\n",
    "print(type(y))\n",
    "# rules to assign a variable\n",
    "# 1-the variable should contain letters, numbers,underscores\n",
    "# 2-do not start with numbers\n",
    "# 3-spaces are not allowed\n",
    "# 4-do not use keywords used in functions(break, mean, test, median)\n",
    "# 5-short and discriptive .\n",
    "# 6-case sensitivity(lower case and upper case letters.lower case should b used)\n",
    "\n",
    "\n",
    "fruit_basket=\"mangos\"\n",
    "print(fruit_basket)\n",
    "fruit_basket=\"mangos,banana\"\n",
    "print(fruit_basket)\n",
    "fruit_basket=\"8\"\n",
    "print(fruit_basket)\n",
    "fruit_basket=\"15\"\n",
    "print(fruit_basket)\n",
    "print(type(fruit_basket))"
   ]
  },
  {
   "cell_type": "markdown",
   "id": "8a299a4a",
   "metadata": {},
   "source": [
    "### **06-input-variables**"
   ]
  },
  {
   "cell_type": "code",
   "execution_count": 6,
   "id": "25d0c624",
   "metadata": {
    "scrolled": true
   },
   "outputs": [
    {
     "name": "stdout",
     "output_type": "stream",
     "text": [
      "mangoes\n",
      "which is your faverite fruit? banana\n",
      "banana\n",
      "what u r name? nadeem\n",
      "hello nadeem\n",
      "what u r name? nadeem\n",
      "hello nadeem\n",
      "what ia your name? nadeem\n",
      "how old r u? 26\n",
      "hello nadeem , u r still young\n"
     ]
    }
   ],
   "source": [
    "fruit_basket=\"mangoes\"\n",
    "print(fruit_basket)\n",
    "\n",
    "# input_function simple\n",
    "fruit_basket=input(\"which is your faverite fruit? \") \n",
    "print(fruit_basket)\n",
    "\n",
    "# input_function for 2nd stage\n",
    "name=input(\"what u r name? \")\n",
    "greetings=\"hello\"\n",
    "print(greetings, name)\n",
    "\n",
    "name=input(\"what u r name? \")\n",
    "greetings=\"hello\"\n",
    "print(\"hello\", name)\n",
    "# 3rd stage input function\n",
    "\n",
    "name=input(\"what ia your name? \")\n",
    "age=input(\"how old r u? \")\n",
    "greeting=\"hello\"\n",
    "print(greeting, name, \", u r still young\")"
   ]
  },
  {
   "cell_type": "markdown",
   "id": "399ead39",
   "metadata": {},
   "source": [
    "### **07-conditional-operator**"
   ]
  },
  {
   "cell_type": "code",
   "execution_count": 8,
   "id": "e05953e6",
   "metadata": {
    "scrolled": true
   },
   "outputs": [
    {
     "name": "stdout",
     "output_type": "stream",
     "text": [
      "False\n",
      "False\n",
      "True\n",
      "True\n",
      "False\n",
      "how old is hammad15\n",
      "<class 'int'>\n",
      "False\n"
     ]
    }
   ],
   "source": [
    "# logical operators are either \"true or false or yes or no or 0 or 1\"\n",
    "# equal to                     ==\n",
    "# not equal to                 !=\n",
    "# less than                    <\n",
    "# greator than                 >\n",
    "# less than and equal to       <= \n",
    "# greator than and equal to    >=\n",
    "\n",
    "# if 4 is equal to 4\n",
    "print(4!=4)\n",
    "print(4<4)\n",
    "print(4>2) \n",
    "print(5>=4)\n",
    "# application of logical operators\n",
    "hammad_age=4\n",
    "age_at_school=5\n",
    "print(hammad_age==age_at_school)\n",
    "# input operator and logicals\n",
    "age_at_school=5\n",
    "hammad_age=input(\"how old is hammad\")\n",
    "hammad_age=int(hammad_age)\n",
    "print(type(hammad_age))\n",
    "print(hammad_age==age_at_school)\n",
    "# convert input"
   ]
  },
  {
   "cell_type": "markdown",
   "id": "ee4717d7",
   "metadata": {},
   "source": [
    "### **08-type-conversion**"
   ]
  },
  {
   "cell_type": "code",
   "execution_count": 10,
   "id": "0a450823",
   "metadata": {
    "scrolled": true
   },
   "outputs": [
    {
     "name": "stdout",
     "output_type": "stream",
     "text": [
      "<class 'float'>\n",
      "112.2 type of x is: <class 'float'>\n",
      "what is your age? 26\n",
      "26 <class 'int'>\n",
      "26 <class 'float'>\n",
      "what is your name? nadeem\n",
      "nadeem <class 'str'>\n"
     ]
    },
    {
     "ename": "ValueError",
     "evalue": "invalid literal for int() with base 10: 'nadeem'",
     "output_type": "error",
     "traceback": [
      "\u001b[1;31m---------------------------------------------------------------------------\u001b[0m",
      "\u001b[1;31mValueError\u001b[0m                                Traceback (most recent call last)",
      "Input \u001b[1;32mIn [10]\u001b[0m, in \u001b[0;36m<cell line: 18>\u001b[1;34m()\u001b[0m\n\u001b[0;32m     16\u001b[0m name\u001b[38;5;241m=\u001b[39m\u001b[38;5;28minput\u001b[39m(\u001b[38;5;124m\"\u001b[39m\u001b[38;5;124mwhat is your name? \u001b[39m\u001b[38;5;124m\"\u001b[39m)\n\u001b[0;32m     17\u001b[0m \u001b[38;5;28mprint\u001b[39m(name, \u001b[38;5;28mtype\u001b[39m(\u001b[38;5;28mstr\u001b[39m(name)))\n\u001b[1;32m---> 18\u001b[0m \u001b[38;5;28mprint\u001b[39m(name, \u001b[38;5;28mtype\u001b[39m(\u001b[38;5;28;43mint\u001b[39;49m\u001b[43m(\u001b[49m\u001b[43mname\u001b[49m\u001b[43m)\u001b[49m))\n",
      "\u001b[1;31mValueError\u001b[0m: invalid literal for int() with base 10: 'nadeem'"
     ]
    }
   ],
   "source": [
    "x=10           \n",
    "y=10.2                                        \n",
    "z=\"hello\"                                    \n",
    "x=x*y\n",
    "print(type(x))\n",
    "#simplict tupe conversion\n",
    "x=x+y\n",
    "print(x,\"type of x is:\", type(x))\n",
    "\n",
    "# explicit type conversion\n",
    "age=input(\"what is your age? \")\n",
    "age=int(age)\n",
    "print(age, type(int(age)))\n",
    "print(age, type(float(age)))\n",
    "# name\n",
    "name=input(\"what is your name? \")\n",
    "print(name, type(str(name)))\n",
    "print(name, type(int(name)))"
   ]
  },
  {
   "cell_type": "markdown",
   "id": "e734a1f3",
   "metadata": {},
   "source": [
    "### **09-if-else-elif**"
   ]
  },
  {
   "cell_type": "code",
   "execution_count": 12,
   "id": "2fed7821",
   "metadata": {},
   "outputs": [
    {
     "name": "stdout",
     "output_type": "stream",
     "text": [
      "hammad can not go to school\n",
      "hammad can not go to school \n",
      "hammad should join hss\n"
     ]
    }
   ],
   "source": [
    " required_age_at_school=5\n",
    "hammad_age=4\n",
    "\n",
    "#question :can hammad go to school\n",
    "if hammad_age==required_age_at_school:\n",
    "    print(\"hammad can join the school\")\n",
    "else:\n",
    "    print(\"hammad can not go to school\")    \n",
    "required_age_at_school=10\n",
    "hammad_age=5\n",
    "if hammad_age==required_age_at_school:\n",
    "    print(\" congratulations hammad can join the school\")\n",
    "elif hammad_age > required_age_at_school:\n",
    "    print(\"hammad should join hss\")\n",
    "else:\n",
    "    print(\"hammad can not go to school \") \n",
    "\n",
    "\n",
    "required_age_at_school=10\n",
    "hammad_age=12\n",
    "if hammad_age==required_age_at_school:\n",
    "        print(\" congratulations hammad can join the school\")\n",
    "elif hammad_age > required_age_at_school:\n",
    "        print(\"hammad should join hss\")\n",
    "else:\n",
    "        print(\"hammad can not go to school \")    \n"
   ]
  },
  {
   "cell_type": "markdown",
   "id": "5af38f7b",
   "metadata": {},
   "source": [
    "### **10-function**"
   ]
  },
  {
   "cell_type": "code",
   "execution_count": 13,
   "id": "7d2f2cfb",
   "metadata": {},
   "outputs": [
    {
     "name": "stdout",
     "output_type": "stream",
     "text": [
      "how old r u?\n",
      "how old r u?\n",
      "how old r u?\n",
      "how old are u\n",
      "how old are u\n",
      "how old are u\n",
      "hello boy\n",
      "hello boy\n",
      "hello boy\n",
      "hammad should join hss\n",
      "hammad can not go to school \n",
      "41\n"
     ]
    }
   ],
   "source": [
    " # defining functions\n",
    "# 1\n",
    "def print_makki():\n",
    "    print(\"how old r u?\")\n",
    "    print(\"how old r u?\")\n",
    "    print(\"how old r u?\")\n",
    "\n",
    "print_makki()\n",
    "\n",
    "    # 2\n",
    "def print_makki():\n",
    "        text = \"how old are u\"\n",
    "        print(text)\n",
    "        print(text)\n",
    "        print(text)\n",
    "print_makki()\n",
    "\n",
    "# 3\n",
    "def print_makki(text):\n",
    "    print(text)\n",
    "    print(text)\n",
    "    print(text)\n",
    "print_makki(\"hello boy\")\n",
    "\n",
    "# defining a function with if, else,elif statments\n",
    "\n",
    "def school_calculator(age, text):\n",
    "    \n",
    "    if age==5:\n",
    "        print(\" congratulations hammad can join the school\")\n",
    "    elif age>5:\n",
    "        print(\"hammad should join hss\")\n",
    "    else:\n",
    "        print(\"hammad can not go to school \")\n",
    "school_calculator(12, \"nadeem\") \n",
    "\n",
    "\n",
    "def school_calculator(age, text):\n",
    "    \n",
    "    if age==5:\n",
    "        print(\" congratulations hammad can join the school\")\n",
    "    elif age>5:\n",
    "        print(\"hammad should join hss\")\n",
    "    else:\n",
    "        print(\"hammad can not go to school \")\n",
    "school_calculator(4, \"nadeem\")    \n",
    "\n",
    "\n",
    "\n",
    "# defining a function of future\n",
    "\n",
    "def future_age(age):\n",
    "    new_age=age+20\n",
    "    return new_age\n",
    "    print(new-age)\n",
    "future_predicted_age= future_age(21)\n",
    "print(future_predicted_age)\n"
   ]
  },
  {
   "cell_type": "markdown",
   "id": "d885c797",
   "metadata": {},
   "source": [
    "### **11-loops**"
   ]
  },
  {
   "cell_type": "code",
   "execution_count": 26,
   "id": "bd1a3666",
   "metadata": {},
   "outputs": [
    {
     "name": "stdout",
     "output_type": "stream",
     "text": [
      "0\n",
      "1\n",
      "2\n",
      "3\n",
      "4\n",
      "0\n",
      "1\n",
      "2\n",
      "3\n",
      "4\n",
      "5\n",
      "5\n",
      "6\n",
      "7\n",
      "8\n",
      "9\n",
      "fri\n"
     ]
    }
   ],
   "source": [
    " #while and for loops\n",
    "\n",
    "# while loop\n",
    "x=0\n",
    "while (x<5):\n",
    "    print(x)\n",
    "    x=x+1\n",
    "\n",
    "\n",
    "x=0\n",
    "while (x<=5):\n",
    "    print(x)\n",
    "    x=x+1\n",
    "\n",
    "# for loop\n",
    "for x in range(5, 10):\n",
    "    print(x)\n",
    "\n",
    "# array\n",
    "days=[\"monday\",\"tue\", \"wed\", \"thu\", \"fri\", \"sat\", \"sun\"]\n",
    "for d in days:\n",
    "    if(d==\"fri\"): break\n",
    "    if(d==\"fri\"): continue\n",
    "print(d)"
   ]
  },
  {
   "cell_type": "markdown",
   "id": "5456775f",
   "metadata": {},
   "source": [
    "### **12-import libraries**"
   ]
  },
  {
   "cell_type": "code",
   "execution_count": 27,
   "id": "289a99c7",
   "metadata": {},
   "outputs": [
    {
     "name": "stdout",
     "output_type": "stream",
     "text": [
      "the value of pi is 3.141592653589793\n",
      "220.20499999999998\n"
     ]
    }
   ],
   "source": [
    "# if u want to print the value of pi\n",
    "\n",
    "import math\n",
    "print(\"the value of pi is\",math.pi)\n",
    "\n",
    "import statistics\n",
    "x=[150,230,330,210.410]\n",
    "print(statistics.median(x))\n",
    "# numpy, pandas"
   ]
  },
  {
   "cell_type": "markdown",
   "id": "6ef00c99",
   "metadata": {},
   "source": [
    "### **13-trouble-shooting**"
   ]
  },
  {
   "cell_type": "code",
   "execution_count": null,
   "id": "a651cce5",
   "metadata": {},
   "outputs": [],
   "source": [
    " print(|we r learning python with ammmar)              #syntax error\n",
    "# print(25/0)                                             #runtime error\n",
    "\n",
    "\n",
    "# name=\"nadeem\"\n",
    "# print(\"hello name\")                                     #symentic error"
   ]
  }
 ],
 "metadata": {
  "kernelspec": {
   "display_name": "Python 3 (ipykernel)",
   "language": "python",
   "name": "python3"
  },
  "language_info": {
   "codemirror_mode": {
    "name": "ipython",
    "version": 3
   },
   "file_extension": ".py",
   "mimetype": "text/x-python",
   "name": "python",
   "nbconvert_exporter": "python",
   "pygments_lexer": "ipython3",
   "version": "3.9.12"
  }
 },
 "nbformat": 4,
 "nbformat_minor": 5
}
